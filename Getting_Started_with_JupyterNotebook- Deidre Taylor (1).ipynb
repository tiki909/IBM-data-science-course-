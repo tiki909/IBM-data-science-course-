{
  "metadata": {
    "kernelspec": {
      "name": "python",
      "display_name": "Python (Pyodide)",
      "language": "python"
    },
    "language_info": {
      "codemirror_mode": {
        "name": "python",
        "version": 3
      },
      "file_extension": ".py",
      "mimetype": "text/x-python",
      "name": "python",
      "nbconvert_exporter": "python",
      "pygments_lexer": "ipython3",
      "version": "3.8"
    },
    "prev_pub_hash": "cf740608800f3654b2ba4e562ad8ad1cd2a0bd9baa466b2419a63a4a21e10172"
  },
  "nbformat_minor": 4,
  "nbformat": 4,
  "cells": [
    {
      "cell_type": "markdown",
      "source": "# Data Science Tools and Ecosystem",
      "metadata": {}
    },
    {
      "cell_type": "markdown",
      "source": "## *In this notebook, Data Science Tools and Ecosystem are summarized.*",
      "metadata": {}
    },
    {
      "cell_type": "markdown",
      "source": "*Introductory sentence followed by an ordered list of data science languages*\n\nData science is a multidisciplinary field that relies on a variety of programming languages to extract insights and knowledge from data, and here are some of the most popular languages used in the field:\n\n1. Python\n2. R\n3. SQL\n4. Julia\n5. Scala\n6. Java\n",
      "metadata": {}
    },
    {
      "cell_type": "markdown",
      "source": "\nData science libraries are essential tools for extracting insights and knowledge from data, and here are some of the most popular libraries used in the field, in no particular order:\n\n1. NumPy (Python) - for efficient numerical computation\n2. Pandas (Python) - for data manipulation and analysis\n3. scikit-learn (Python) - for machine learning\n4. TensorFlow (Python) - for deep learning\n5. Keras (Python) - for deep learning\n6. Matplotlib (Python) - for data visualization\n7. Seaborn (Python) - for data visualization\n8. Scipy (Python) - for scientific computing\n9. Statsmodels (Python) - for statistical modeling\n10. caret (R) - for machine learning\n",
      "metadata": {}
    },
    {
      "cell_type": "markdown",
      "source": " Data Science tools, categorized by function:\n\n| Category | Tool | Description |\n| --- | --- | --- |\n| Data Manipulation | Pandas (Python) | Library for data manipulation and analysis |\n|  | NumPy (Python) | Library for efficient numerical computation |\n| Machine Learning | scikit-learn (Python) | Library for machine learning |\n|  | TensorFlow (Python) | Library for deep learning |\n|  | Keras (Python) | Library for deep learning |\n| Data Visualization | Matplotlib (Python) | Library for data visualization |\n|  | Seaborn (Python) | Library for data visualization |\n|  | Tableau (Various) | Data visualization platform |\n| Statistical Modeling | Statsmodels (Python) | Library for statistical modeling |\n|  | R (Various) | Programming language for statistical computing |\n| Data Storage | MySQL (Various) | Relational database management system |\n|  | MongoDB (Various) | NoSQL database |\n| Big Data | Hadoop (Various) | Distributed computing framework |\n|  | Spark (Various) | Distributed computing engine |\n| Data Preprocessing | OpenRefine (Various) | Data preprocessing and cleaning tool ",
      "metadata": {}
    },
    {
      "cell_type": "markdown",
      "source": "Python function to convert minutes to hours:",
      "metadata": {}
    },
    {
      "cell_type": "code",
      "source": "def convert_minutes_to_hours(minutes):\n    hours = minutes / 60\n    return hours\n\nminutes = 120\nhours = convert_minutes_to_hours(minutes)\nprint(f\"{minutes} minutes is equal to {hours} hours\")\n\n",
      "metadata": {
        "trusted": true
      },
      "outputs": [
        {
          "name": "stdout",
          "text": "120 minutes is equal to 2.0 hours\n",
          "output_type": "stream"
        }
      ],
      "execution_count": 4
    },
    {
      "cell_type": "markdown",
      "source": "# Objectives\nAfter completing this lab, you will be able to:\nGet an overview of code and markdown cells\n\nExecute an existing code cell\n\nInsert and delete a code cell\n\nWrite comments in Python\n\nCreate and use Markdown cells",
      "metadata": {}
    },
    {
      "cell_type": "markdown",
      "source": "# Exercise 1\n## Say \"Hello\" to the world in Python\n",
      "metadata": {}
    },
    {
      "cell_type": "code",
      "source": "# Try your first Python output. Click here and press Shift + Enter to execute the cell\n\n'Hello, Python!'",
      "metadata": {
        "trusted": true
      },
      "outputs": [
        {
          "execution_count": 5,
          "output_type": "execute_result",
          "data": {
            "text/plain": "'Hello, Python!'"
          },
          "metadata": {}
        }
      ],
      "execution_count": 5
    },
    {
      "cell_type": "code",
      "source": "print(\"Hello, Python!\")",
      "metadata": {
        "trusted": true
      },
      "outputs": [
        {
          "name": "stdout",
          "text": "Hello, Python!\n",
          "output_type": "stream"
        }
      ],
      "execution_count": 6
    },
    {
      "cell_type": "markdown",
      "source": "After executing the cell above, you should see that Python prints <code>Hello, Python!</code>. Congratulations on running your first Python code! \n",
      "metadata": {}
    },
    {
      "cell_type": "markdown",
      "source": "### Display an Integer\n",
      "metadata": {}
    },
    {
      "cell_type": "code",
      "source": "# Print an integer\n\n2",
      "metadata": {
        "trusted": true
      },
      "outputs": [
        {
          "execution_count": 7,
          "output_type": "execute_result",
          "data": {
            "text/plain": "2"
          },
          "metadata": {}
        }
      ],
      "execution_count": 7
    },
    {
      "cell_type": "code",
      "source": "print(2)\n",
      "metadata": {
        "trusted": true
      },
      "outputs": [
        {
          "name": "stdout",
          "text": "2\n",
          "output_type": "stream"
        }
      ],
      "execution_count": 8
    },
    {
      "cell_type": "code",
      "source": "# Addition operation\n2+2",
      "metadata": {
        "trusted": true
      },
      "outputs": [
        {
          "execution_count": 9,
          "output_type": "execute_result",
          "data": {
            "text/plain": "4"
          },
          "metadata": {}
        }
      ],
      "execution_count": 9
    },
    {
      "cell_type": "code",
      "source": "print(2 + 2)\n",
      "metadata": {
        "trusted": true
      },
      "outputs": [
        {
          "name": "stdout",
          "text": "4\n",
          "output_type": "stream"
        }
      ],
      "execution_count": 10
    },
    {
      "cell_type": "code",
      "source": "# Multiplication operation\n2.5*3.5",
      "metadata": {
        "trusted": true
      },
      "outputs": [
        {
          "execution_count": 11,
          "output_type": "execute_result",
          "data": {
            "text/plain": "8.75"
          },
          "metadata": {}
        }
      ],
      "execution_count": 11
    },
    {
      "cell_type": "code",
      "source": "print(2.5 * 3.5)\n",
      "metadata": {
        "trusted": true
      },
      "outputs": [
        {
          "name": "stdout",
          "text": "8.75\n",
          "output_type": "stream"
        }
      ],
      "execution_count": 12
    },
    {
      "cell_type": "markdown",
      "source": "# Exercise 2\n### Create a new cell and execute it.\n\n\n\n",
      "metadata": {}
    },
    {
      "cell_type": "code",
      "source": "# Create a new code cell below this cell and type in 4.5 and execute it",
      "metadata": {
        "trusted": true
      },
      "outputs": [],
      "execution_count": 13
    },
    {
      "cell_type": "markdown",
      "source": "<details><summary>Click here for the solution</summary>\n\n```python\n4.5\n\n```\nThe output looks as:\n\n<img src=\"https://cf-courses-data.s3.us.cloud-object-storage.appdomain.cloud/IBMDeveloperSkillsNetwork-DS0105EN-SkillsNetwork/labs/Labs_V4/images/exe_sol.png\">\n\n</details>\n",
      "metadata": {}
    },
    {
      "cell_type": "code",
      "source": "4.5",
      "metadata": {
        "trusted": true
      },
      "outputs": [
        {
          "execution_count": 14,
          "output_type": "execute_result",
          "data": {
            "text/plain": "4.5"
          },
          "metadata": {}
        }
      ],
      "execution_count": 14
    },
    {
      "cell_type": "markdown",
      "source": "# Exercise 3\n\n### Delete a cell in Jupyter Notebook.\n\nPlace your cursor at the cell given below. Click **Edit** and select **Delete cells**.\n\n\n",
      "metadata": {}
    },
    {
      "cell_type": "markdown",
      "source": "The highlighted cell gets deleted.\n",
      "metadata": {}
    },
    {
      "cell_type": "markdown",
      "source": "# Exercise 4\n### Writing comments in Python\n\n<p>\n    In addition to writing code, note that it's always a good idea to add comments to your code. It will help others understand what you were trying to accomplish (why you wrote a given code snippet). Not only does this help <strong>other people</strong> understand your code, but it can also serve as a reminder <strong>to you</strong> when you come back to it weeks or months later.</p>\n\n<p>\n     To write comments in Python, use the number symbol <code>#</code> before writing your comment. Python will ignore everything past the <code>#</code> on a given line when you run your code.\n</p>\n",
      "metadata": {}
    },
    {
      "cell_type": "code",
      "source": "# Execute this cell by clicking Shift + Enter\n\n2+3",
      "metadata": {
        "trusted": true
      },
      "outputs": [
        {
          "execution_count": 15,
          "output_type": "execute_result",
          "data": {
            "text/plain": "5"
          },
          "metadata": {}
        }
      ],
      "execution_count": 15
    },
    {
      "cell_type": "markdown",
      "source": "After executing the above cell, you will find that the output <code>5</code> is generated on executing <code>2+3</code>\n",
      "metadata": {}
    },
    {
      "cell_type": "code",
      "source": "# Execute this cell by clicking Shift + Enter\n# 2+3",
      "metadata": {
        "trusted": true
      },
      "outputs": [],
      "execution_count": 16
    },
    {
      "cell_type": "markdown",
      "source": "<hr/>\n<div class=\"alert alert-success alertsuccess\" style=\"margin-top: 20px\">\n<p>\n  \nAfter executing the above cell code <code>2+3</code> output <code>5</code> is not generated because <code>2+3</code> was preceeded by the number sign (<code>#</code>) and is treated as a comment.\n</strong>\n</p>\n\n</div>\n",
      "metadata": {}
    },
    {
      "cell_type": "markdown",
      "source": "# Exercise 5\n\n### Using markdown cells\n\nChange the **Code** cell below to **Markdown** cell from the dropdown. \n\n\n\nType in the text as **My First Markdown**\n",
      "metadata": {}
    },
    {
      "cell_type": "markdown",
      "source": "# **My First Markdown**",
      "metadata": {}
    },
    {
      "cell_type": "markdown",
      "source": "<details><summary>Click here for the solution</summary>\n\n```python\nMy First Markdown\n\n```\nThe output look as:\n\n<img src=\"https://cf-courses-data.s3.us.cloud-object-storage.appdomain.cloud/IBMDeveloperSkillsNetwork-DS0105EN-SkillsNetwork/labs/Labs_V4/images/outputmkdown.png\">\n</details>\n",
      "metadata": {}
    },
    {
      "cell_type": "markdown",
      "source": "# Practice Exercises\n",
      "metadata": {}
    },
    {
      "cell_type": "markdown",
      "source": "### Task 1: Insert a new Markdown cell  with the text as **Evaluating Basic Arithmetic Expression**.\n",
      "metadata": {}
    },
    {
      "cell_type": "markdown",
      "source": "<details><summary>Click here for the solution</summary>\nEvaluating Basic Arithmetic Expression\n\nHere we will be evaluating a basic arithmetic expression containing addition and multiplication operations.\n\n</details>\n",
      "metadata": {}
    },
    {
      "cell_type": "markdown",
      "source": "# **Evaluating Basic Arithmetic Expression**.\n",
      "metadata": {}
    },
    {
      "cell_type": "markdown",
      "source": "### Task 2: Insert a new code cell below and use this **expression** <code>(20+5)*4</code> and **execute** it.\n",
      "metadata": {}
    },
    {
      "cell_type": "code",
      "source": "print (\"(20+5)*4\")\n",
      "metadata": {
        "trusted": true
      },
      "outputs": [
        {
          "name": "stdout",
          "text": "(20+5)*4\n",
          "output_type": "stream"
        }
      ],
      "execution_count": 17
    },
    {
      "cell_type": "markdown",
      "source": "<details><summary>Click here for the solution</summary>\n\n```python\n(20+5)*4\n\n```\n\n</details>\n",
      "metadata": {}
    },
    {
      "cell_type": "markdown",
      "source": "#### Task 3: In the cell below, add a comment as **Displaying a string message**. Add the line <code>\"Let us explore python without coding.\" </code>below the comment and execute it \n",
      "metadata": {}
    },
    {
      "cell_type": "markdown",
      "source": "## Let us explore python without coding.",
      "metadata": {}
    },
    {
      "cell_type": "markdown",
      "source": "#### (Bonus) Task 4: Split the code cell below after ```1+1```\n",
      "metadata": {}
    },
    {
      "cell_type": "code",
      "source": "## Click after 1+1 in this cell and split it\n1+1",
      "metadata": {
        "trusted": true
      },
      "outputs": [
        {
          "execution_count": 18,
          "output_type": "execute_result",
          "data": {
            "text/plain": "2"
          },
          "metadata": {}
        }
      ],
      "execution_count": 18
    },
    {
      "cell_type": "code",
      "source": "2*2",
      "metadata": {
        "trusted": true
      },
      "outputs": [
        {
          "execution_count": 19,
          "output_type": "execute_result",
          "data": {
            "text/plain": "4"
          },
          "metadata": {}
        }
      ],
      "execution_count": 19
    },
    {
      "cell_type": "markdown",
      "source": "<details><summary>Click here for the solution</summary>\n\nClick 2nd line and aplit it using Split Cell from Edit menu.\n\n<img src=\"https://cf-courses-data.s3.us.cloud-object-storage.appdomain.cloud/IBMDeveloperSkillsNetwork-DS0105EN-SkillsNetwork/labs/Labs_V4/images/split1.png\">\n\nThe solutions looks as:\n\n<img src=\"https://cf-courses-data.s3.us.cloud-object-storage.appdomain.cloud/IBMDeveloperSkillsNetwork-DS0105EN-SkillsNetwork/labs/Labs_V4/images/splisol.png\">\n\n\n</details>\n",
      "metadata": {}
    },
    {
      "cell_type": "markdown",
      "source": "###  Thank you for completing this lab!\n",
      "metadata": {}
    },
    {
      "cell_type": "markdown",
      "source": "## Author\nDeidre Taylor \n\n\n\n## Change Log\n\n| Date (YYYY-MM-DD) | Version | Changed By | Change Description                 |\n| ----------------- | ------- | ---------- | ---------------------------------- |\n| 2022-09-30        | 0.1     | Lakshmi Holla     | Created Initial version    |\n\n\n## <h3 align=\"center\"> © IBM Corporation 2022. All rights reserved. <h3/>\n",
      "metadata": {}
    }
  ]
}