{
  "metadata": {
    "kernelspec": {
      "name": "python",
      "display_name": "Python (Pyodide)",
      "language": "python"
    },
    "language_info": {
      "codemirror_mode": {
        "name": "python",
        "version": 3
      },
      "file_extension": ".py",
      "mimetype": "text/x-python",
      "name": "python",
      "nbconvert_exporter": "python",
      "pygments_lexer": "ipython3",
      "version": "3.8"
    },
    "prev_pub_hash": "cf740608800f3654b2ba4e562ad8ad1cd2a0bd9baa466b2419a63a4a21e10172"
  },
  "nbformat_minor": 4,
  "nbformat": 4,
  "cells": [
    {
      "cell_type": "markdown",
      "source": "# Lab: Getting Started with Jupyter Notebooks - Deidre Taylor ",
      "metadata": {}
    },
    {
      "cell_type": "markdown",
      "source": "# Exercise 1\n## Say \"Hello\" to the world in Python\n",
      "metadata": {}
    },
    {
      "cell_type": "code",
      "source": "# Try your first Python output. Click here and press Shift + Enter to execute the cell\n\n'Hello, Python!'",
      "metadata": {},
      "outputs": [],
      "execution_count": null
    },
    {
      "cell_type": "code",
      "source": "print(\"Hello, Python!\")",
      "metadata": {
        "trusted": true
      },
      "outputs": [
        {
          "name": "stdout",
          "text": "Hello, Python!\n",
          "output_type": "stream"
        }
      ],
      "execution_count": 3
    },
    {
      "cell_type": "markdown",
      "source": "After executing the cell above, you should see that Python prints <code>Hello, Python!</code>. Congratulations on running your first Python code! \n",
      "metadata": {}
    },
    {
      "cell_type": "markdown",
      "source": "### Display an Integer\n",
      "metadata": {}
    },
    {
      "cell_type": "code",
      "source": "# Print an integer\n\n2",
      "metadata": {},
      "outputs": [],
      "execution_count": null
    },
    {
      "cell_type": "code",
      "source": "print(2)\n",
      "metadata": {
        "trusted": true
      },
      "outputs": [
        {
          "name": "stdout",
          "text": "2\n",
          "output_type": "stream"
        }
      ],
      "execution_count": 4
    },
    {
      "cell_type": "code",
      "source": "# Addition operation\n2+2",
      "metadata": {},
      "outputs": [],
      "execution_count": null
    },
    {
      "cell_type": "code",
      "source": "print(2 + 2)\n",
      "metadata": {
        "trusted": true
      },
      "outputs": [
        {
          "name": "stdout",
          "text": "4\n",
          "output_type": "stream"
        }
      ],
      "execution_count": 5
    },
    {
      "cell_type": "code",
      "source": "# Multiplication operation\n2.5*3.5",
      "metadata": {},
      "outputs": [],
      "execution_count": null
    },
    {
      "cell_type": "code",
      "source": "print(2.5 * 3.5)\n",
      "metadata": {
        "trusted": true
      },
      "outputs": [
        {
          "name": "stdout",
          "text": "8.75\n",
          "output_type": "stream"
        }
      ],
      "execution_count": 6
    },
    {
      "cell_type": "markdown",
      "source": "# Exercise 2\n### Create a new cell and execute it.\n\n\n\n",
      "metadata": {}
    },
    {
      "cell_type": "code",
      "source": "# Create a new code cell below this cell and type in 4.5 and execute it",
      "metadata": {},
      "outputs": [],
      "execution_count": null
    },
    {
      "cell_type": "markdown",
      "source": "<details><summary>Click here for the solution</summary>\n\n```python\n4.5\n\n```\nThe output looks as:\n\n<img src=\"https://cf-courses-data.s3.us.cloud-object-storage.appdomain.cloud/IBMDeveloperSkillsNetwork-DS0105EN-SkillsNetwork/labs/Labs_V4/images/exe_sol.png\">\n\n</details>\n",
      "metadata": {}
    },
    {
      "cell_type": "code",
      "source": "4.5",
      "metadata": {
        "trusted": true
      },
      "outputs": [
        {
          "execution_count": 7,
          "output_type": "execute_result",
          "data": {
            "text/plain": "4.5"
          },
          "metadata": {}
        }
      ],
      "execution_count": 7
    },
    {
      "cell_type": "markdown",
      "source": "# Exercise 3\n\n### Delete a cell in Jupyter Notebook.\n\nPlace your cursor at the cell given below. Click **Edit** and select **Delete cells**.\n\n\n",
      "metadata": {}
    },
    {
      "cell_type": "markdown",
      "source": "The highlighted cell gets deleted.\n",
      "metadata": {}
    },
    {
      "cell_type": "markdown",
      "source": "# Exercise 4\n### Writing comments in Python\n\n<p>\n    In addition to writing code, note that it's always a good idea to add comments to your code. It will help others understand what you were trying to accomplish (why you wrote a given code snippet). Not only does this help <strong>other people</strong> understand your code, but it can also serve as a reminder <strong>to you</strong> when you come back to it weeks or months later.</p>\n\n<p>\n     To write comments in Python, use the number symbol <code>#</code> before writing your comment. Python will ignore everything past the <code>#</code> on a given line when you run your code.\n</p>\n",
      "metadata": {}
    },
    {
      "cell_type": "code",
      "source": "# Execute this cell by clicking Shift + Enter\n\n2+3",
      "metadata": {
        "trusted": true
      },
      "outputs": [
        {
          "execution_count": 8,
          "output_type": "execute_result",
          "data": {
            "text/plain": "5"
          },
          "metadata": {}
        }
      ],
      "execution_count": 8
    },
    {
      "cell_type": "markdown",
      "source": "After executing the above cell, you will find that the output <code>5</code> is generated on executing <code>2+3</code>\n",
      "metadata": {}
    },
    {
      "cell_type": "code",
      "source": "# Execute this cell by clicking Shift + Enter\n# 2+3",
      "metadata": {
        "trusted": true
      },
      "outputs": [],
      "execution_count": 14
    },
    {
      "cell_type": "markdown",
      "source": "<hr/>\n<div class=\"alert alert-success alertsuccess\" style=\"margin-top: 20px\">\n<p>\n  \nAfter executing the above cell code <code>2+3</code> output <code>5</code> is not generated because <code>2+3</code> was preceeded by the number sign (<code>#</code>) and is treated as a comment.\n</strong>\n</p>\n\n</div>\n",
      "metadata": {}
    },
    {
      "cell_type": "markdown",
      "source": "# Exercise 5\n\n### Using markdown cells\n\nChange the **Code** cell below to **Markdown** cell from the dropdown. \n\n\n\nType in the text as **My First Markdown**\n",
      "metadata": {}
    },
    {
      "cell_type": "markdown",
      "source": "# **My First Markdown**",
      "metadata": {}
    },
    {
      "cell_type": "markdown",
      "source": "<details><summary>Click here for the solution</summary>\n\n```python\nMy First Markdown\n\n```\nThe output look as:\n\n<img src=\"https://cf-courses-data.s3.us.cloud-object-storage.appdomain.cloud/IBMDeveloperSkillsNetwork-DS0105EN-SkillsNetwork/labs/Labs_V4/images/outputmkdown.png\">\n</details>\n",
      "metadata": {}
    },
    {
      "cell_type": "markdown",
      "source": "Your markdown cell should now be rendered! _To edit your markdown cell, double-click anywhere within the cell._ \n",
      "metadata": {}
    },
    {
      "cell_type": "markdown",
      "source": "# Practice Exercises\n",
      "metadata": {}
    },
    {
      "cell_type": "markdown",
      "source": "### Task 1: Insert a new Markdown cell  with the text as **Evaluating Basic Arithmetic Expression**.\n",
      "metadata": {}
    },
    {
      "cell_type": "markdown",
      "source": "<details><summary>Click here for the solution</summary>\nEvaluating Basic Arithmetic Expression\n\nHere we will be evaluating a basic arithmetic expression containing addition and multiplication operations.\n\n</details>\n",
      "metadata": {}
    },
    {
      "cell_type": "markdown",
      "source": "# **Evaluating Basic Arithmetic Expression**.\n",
      "metadata": {}
    },
    {
      "cell_type": "markdown",
      "source": "### Task 2: Insert a new code cell below and use this **expression** <code>(20+5)*4</code> and **execute** it.\n",
      "metadata": {}
    },
    {
      "cell_type": "code",
      "source": "print (\"(20+5)*4\")\n",
      "metadata": {
        "trusted": true
      },
      "outputs": [
        {
          "name": "stdout",
          "text": "(20+5)*4\n",
          "output_type": "stream"
        }
      ],
      "execution_count": 17
    },
    {
      "cell_type": "markdown",
      "source": "<details><summary>Click here for the solution</summary>\n\n```python\n(20+5)*4\n\n```\n\n</details>\n",
      "metadata": {}
    },
    {
      "cell_type": "markdown",
      "source": "#### Task 3: In the cell below, add a comment as **Displaying a string message**. Add the line <code>\"Let us explore python without coding.\" </code>below the comment and execute it \n",
      "metadata": {}
    },
    {
      "cell_type": "markdown",
      "source": "## Let us explore python without coding.",
      "metadata": {}
    },
    {
      "cell_type": "markdown",
      "source": "#### (Bonus) Task 4: Split the code cell below after ```1+1```\n",
      "metadata": {}
    },
    {
      "cell_type": "code",
      "source": "## Click after 1+1 in this cell and split it\n1+1",
      "metadata": {},
      "outputs": [],
      "execution_count": null
    },
    {
      "cell_type": "code",
      "source": "2*2",
      "metadata": {},
      "outputs": [],
      "execution_count": null
    },
    {
      "cell_type": "markdown",
      "source": "<details><summary>Click here for the solution</summary>\n\nClick 2nd line and aplit it using Split Cell from Edit menu.\n\n<img src=\"https://cf-courses-data.s3.us.cloud-object-storage.appdomain.cloud/IBMDeveloperSkillsNetwork-DS0105EN-SkillsNetwork/labs/Labs_V4/images/split1.png\">\n\nThe solutions looks as:\n\n<img src=\"https://cf-courses-data.s3.us.cloud-object-storage.appdomain.cloud/IBMDeveloperSkillsNetwork-DS0105EN-SkillsNetwork/labs/Labs_V4/images/splisol.png\">\n\n\n</details>\n",
      "metadata": {}
    },
    {
      "cell_type": "markdown",
      "source": "###  Thank you for completing this lab!\n",
      "metadata": {}
    },
    {
      "cell_type": "markdown",
      "source": "## Author\n\n[Lakshmi Holla](https://www.linkedin.com/in/lakshmi-holla-b39062149/?utm_medium=Exinfluencer&utm_source=Exinfluencer&utm_content=000026UJ&utm_term=10006555&utm_id=NA-SkillsNetwork-Channel-SkillsNetworkCoursesIBMDeveloperSkillsNetworkDS0105ENSkillsNetwork984-2022-01-01)\n\n[Malika Singla](https://www.linkedin.com/in/malika-goyal-04798622/?utm_medium=Exinfluencer&utm_source=Exinfluencer&utm_content=000026UJ&utm_term=10006555&utm_id=NA-SkillsNetwork-Channel-SkillsNetworkCoursesIBMDeveloperSkillsNetworkDS0105ENSkillsNetwork984-2022-01-01)\n\n\n\n## Change Log\n\n| Date (YYYY-MM-DD) | Version | Changed By | Change Description                 |\n| ----------------- | ------- | ---------- | ---------------------------------- |\n| 2022-09-30        | 0.1     | Lakshmi Holla     | Created Initial version    |\n\n\n## <h3 align=\"center\"> © IBM Corporation 2022. All rights reserved. <h3/>\n",
      "metadata": {}
    }
  ]
}